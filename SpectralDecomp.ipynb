{
 "cells": [
  {
   "cell_type": "code",
   "execution_count": 1,
   "metadata": {},
   "outputs": [],
   "source": [
    "import numpy as np\n",
    "#Load the data\n",
    "data = np.load('teapot.npy')\n",
    "flattened = np.load('teapot_flat.npy')\n",
    "\n",
    "sample_rate = 0.002"
   ]
  },
  {
   "cell_type": "code",
   "execution_count": 3,
   "metadata": {},
   "outputs": [],
   "source": [
    "from scipy.signal import butter, lfilter\n",
    "def butter_bandpass(lowcut, highcut, fs, order=5):\n",
    "    nyq = 0.5 * fs\n",
    "    low = lowcut / nyq\n",
    "    high = highcut / nyq\n",
    "    b, a = butter(order, [low, high], btype='band')\n",
    "    return b, a\n",
    "\n",
    "\n",
    "def butter_bandpass_filter(lowcut, highcut, fs, data, order=5):\n",
    "    b, a = butter_bandpass(lowcut, highcut, fs, order=order)\n",
    "    y = lfilter(b, a, data)\n",
    "    return y\n",
    "\n",
    "import functools\n",
    "\n",
    "\n",
    "lowcut = 1\n",
    "highcut = 10\n",
    "fs =  1/sample_rate\n",
    "\n",
    "flattened_low = np.apply_along_axis(functools.partial(butter_bandpass_filter, lowcut, highcut, fs), 2, flattened)\n",
    "\n",
    "lowcut = 5\n",
    "highcut = 60\n",
    "\n",
    "flattened_mid = np.apply_along_axis(functools.partial(butter_bandpass_filter, lowcut, highcut, fs), 2, flattened)\n",
    "\n",
    "lowcut = 40\n",
    "highcut = 200\n",
    "\n",
    "flattened_high = np.apply_along_axis(functools.partial(butter_bandpass_filter, lowcut, highcut, fs), 2, flattened)"
   ]
  },
  {
   "cell_type": "code",
   "execution_count": 4,
   "metadata": {},
   "outputs": [],
   "source": [
    "vm_high = np.percentile(flattened_high, 99)\n",
    "vm_mid = np.percentile(flattened_mid, 99)\n",
    "vm_low = np.percentile(flattened_low, 99)"
   ]
  },
  {
   "cell_type": "code",
   "execution_count": 6,
   "metadata": {},
   "outputs": [
    {
     "data": {
      "application/vnd.jupyter.widget-view+json": {
       "model_id": "547c168b93744960b0f43fe5e626eb63",
       "version_major": 2,
       "version_minor": 0
      },
      "text/plain": [
       "interactive(children=(IntSlider(value=589, description='i', max=1501), Output()), _dom_classes=('widget-intera…"
      ]
     },
     "metadata": {},
     "output_type": "display_data"
    },
    {
     "data": {
      "text/plain": [
       "<function __main__.show_time_slice(i)>"
      ]
     },
     "execution_count": 6,
     "metadata": {},
     "output_type": "execute_result"
    }
   ],
   "source": [
    "import numpy as np\n",
    "import matplotlib.pyplot as plt\n",
    "%matplotlib inline\n",
    "from matplotlib import cm\n",
    "from numpy.ma import masked_array\n",
    "from matplotlib.colors import Normalize\n",
    "from matplotlib.colors import ListedColormap\n",
    "%matplotlib inline\n",
    "\n",
    "def show_time_slice(i):\n",
    "    print(i)\n",
    "    cmaps_with_alpha = [] \n",
    "    for cmap in (cm.Reds,cm.Blues,cm.Greens):\n",
    "        # Get the colormap colors\n",
    "        my_cmap = cmap(np.arange(cmap.N))        \n",
    "        top_half = my_cmap[int(cmap.N/2):,:]\n",
    "        my_cmap = np.concatenate((top_half, np.flip(top_half, axis=0)), axis=0)\n",
    "        \n",
    "        # Set alpha\n",
    "        my_cmap[:,-1] = np.concatenate((np.linspace(1, 0, cmap.N/2), np.linspace(0, 1, cmap.N/2)))\n",
    "\n",
    "        cmaps_with_alpha.append(ListedColormap(my_cmap))\n",
    "\n",
    "    cm_reds_alpha = cmaps_with_alpha[0]\n",
    "    cm_blues_alpha = cmaps_with_alpha[1]\n",
    "    cm_greens_alpha = cmaps_with_alpha[2] \n",
    "\n",
    "    colors_reds = cm_reds_alpha(Normalize(-vm_high, vm_high, clip=True)(flattened_high[:,:,i]))\n",
    "    colors_greens = cm_greens_alpha(Normalize(-vm_mid, vm_mid, clip=True)(flattened_mid[:,:,i]))\n",
    "    colors_blues = cm_blues_alpha(Normalize(-vm_low, vm_low, clip=True)(flattened_low[:,:,i]))\n",
    "\n",
    "    plt.rcParams['figure.figsize'] = [16, 20]\n",
    "    #plt.figure(figsize=(16, 20))\n",
    "    fig,ax = plt.subplots()\n",
    "\n",
    "    pa = ax.imshow(flattened_high[:,:,i], interpolation='nearest', cmap=cm_reds_alpha, aspect=0.5)\n",
    "    cba = plt.colorbar(pa, shrink=0.5)\n",
    "    \n",
    "    pc = ax.imshow(flattened_mid[:,:,i], interpolation='nearest', cmap=cm_greens_alpha, aspect=0.5)\n",
    "    cbc = plt.colorbar(pc, shrink=0.5)\n",
    "    \n",
    "    pb = ax.imshow(flattened_low[:,:,i], interpolation='nearest', cmap=cm_blues_alpha, aspect=0.5)\n",
    "    cbb = plt.colorbar(pb, shrink=0.5)\n",
    "\n",
    "    plt.xlabel('Crossline')\n",
    "    plt.ylabel('Inline')\n",
    "    cba.set_label('Highs')\n",
    "    cbb.set_label('Lows')\n",
    "    cbc.set_label('Mids')\n",
    "    plt.show()\n",
    "\n",
    "from ipywidgets import interact, interactive, fixed, interact_manual\n",
    "import ipywidgets as widgets\n",
    "interact(show_time_slice, i=widgets.IntSlider(min=0, max=flattened.shape[2], step=1, value=589))\n"
   ]
  },
  {
   "cell_type": "code",
   "execution_count": null,
   "metadata": {},
   "outputs": [],
   "source": []
  },
  {
   "cell_type": "code",
   "execution_count": null,
   "metadata": {},
   "outputs": [],
   "source": []
  },
  {
   "cell_type": "code",
   "execution_count": null,
   "metadata": {},
   "outputs": [],
   "source": []
  }
 ],
 "metadata": {
  "kernelspec": {
   "display_name": "Python 3",
   "language": "python",
   "name": "python3"
  },
  "language_info": {
   "codemirror_mode": {
    "name": "ipython",
    "version": 3
   },
   "file_extension": ".py",
   "mimetype": "text/x-python",
   "name": "python",
   "nbconvert_exporter": "python",
   "pygments_lexer": "ipython3",
   "version": "3.6.5"
  }
 },
 "nbformat": 4,
 "nbformat_minor": 2
}
