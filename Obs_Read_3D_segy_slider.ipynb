{
 "cells": [
  {
   "cell_type": "code",
   "execution_count": 2,
   "metadata": {},
   "outputs": [],
   "source": [
    "import numpy as np\n",
    "import matplotlib.pyplot as plt\n",
    "%matplotlib inline"
   ]
  },
  {
   "cell_type": "code",
   "execution_count": 3,
   "metadata": {},
   "outputs": [],
   "source": [
    "filename = '/home/dparks/Downloads/rmotc/DataSets/Seismic/CD files/3D_Seismic/filt_mig.sgy'"
   ]
  },
  {
   "cell_type": "code",
   "execution_count": 4,
   "metadata": {},
   "outputs": [],
   "source": [
    "from obspy.io.segy.segy import _read_segy\n",
    "stream = _read_segy(filename, headonly=True)"
   ]
  },
  {
   "cell_type": "code",
   "execution_count": 5,
   "metadata": {},
   "outputs": [],
   "source": [
    "\n",
    "traces_with_indexes = []\n",
    "\n",
    "for trace in stream.traces[:10000]:\n",
    "    x = trace.header.x_coordinate_of_ensemble_position_of_this_trace - 1\n",
    "    y = trace.header.y_coordinate_of_ensemble_position_of_this_trace - 1\n",
    "\n",
    "    traces_with_indexes.append((x,y, trace.data))\n"
   ]
  },
  {
   "cell_type": "code",
   "execution_count": 6,
   "metadata": {},
   "outputs": [
    {
     "name": "stdout",
     "output_type": "stream",
     "text": [
      "53 187\n"
     ]
    }
   ],
   "source": [
    "x_max = max(traces_with_indexes, key = lambda x: x[0])[0]\n",
    "y_max = max(traces_with_indexes, key = lambda x: x[1])[1]\n",
    "\n",
    "print(x_max, y_max)"
   ]
  },
  {
   "cell_type": "code",
   "execution_count": 7,
   "metadata": {},
   "outputs": [],
   "source": [
    "x_len = x_max + 1\n",
    "y_len = y_max + 1\n",
    "s_len = len(traces_with_indexes[0][2])\n",
    "threeDSamples = np.zeros((x_len, y_len, s_len))"
   ]
  },
  {
   "cell_type": "code",
   "execution_count": 8,
   "metadata": {},
   "outputs": [],
   "source": [
    "for xy_trace in traces_with_indexes:\n",
    "    x = xy_trace[0]\n",
    "    y = xy_trace[1]\n",
    "    samples = xy_trace[2]\n",
    "    threeDSamples[x, y] = samples"
   ]
  },
  {
   "cell_type": "code",
   "execution_count": 9,
   "metadata": {
    "scrolled": false
   },
   "outputs": [
    {
     "data": {
      "application/vnd.jupyter.widget-view+json": {
       "model_id": "d7d18ac57223464fab5a10478fb4ead7",
       "version_major": 2,
       "version_minor": 0
      },
      "text/plain": [
       "interactive(children=(IntSlider(value=10, description='x', max=53), Output()), _dom_classes=('widget-interact'…"
      ]
     },
     "metadata": {},
     "output_type": "display_data"
    },
    {
     "data": {
      "application/vnd.jupyter.widget-view+json": {
       "model_id": "b554ccc71710467b8389578c095df494",
       "version_major": 2,
       "version_minor": 0
      },
      "text/plain": [
       "interactive(children=(IntSlider(value=10, description='x', max=187), Output()), _dom_classes=('widget-interact…"
      ]
     },
     "metadata": {},
     "output_type": "display_data"
    },
    {
     "data": {
      "application/vnd.jupyter.widget-view+json": {
       "model_id": "aae5238270774760b91230f82f8fc8c1",
       "version_major": 2,
       "version_minor": 0
      },
      "text/plain": [
       "interactive(children=(IntSlider(value=10, description='x', max=1500), Output()), _dom_classes=('widget-interac…"
      ]
     },
     "metadata": {},
     "output_type": "display_data"
    },
    {
     "data": {
      "application/vnd.jupyter.widget-view+json": {
       "model_id": "e4f0e22590364deda8a9eca5aeaf64f2",
       "version_major": 2,
       "version_minor": 0
      },
      "text/plain": [
       "interactive(children=(IntSlider(value=40, description='x', min=40), Output()), _dom_classes=('widget-interact'…"
      ]
     },
     "metadata": {},
     "output_type": "display_data"
    }
   ],
   "source": [
    "vm = np.percentile(threeDSamples, 99)\n",
    "\n",
    "from ipywidgets import interact, interactive, fixed, interact_manual\n",
    "import ipywidgets as widgets\n",
    "from scipy.signal import hilbert\n",
    "from scipy import interpolate\n",
    "from scipy import signal\n",
    "\n",
    "samples   = stream.binary_file_header.number_of_samples_per_data_trace\n",
    "samples = samples -1\n",
    "\n",
    "def ampspec(signal,sr,smooth=False):\n",
    "    '''\n",
    "    ampspec (C) aadm 2016\n",
    "    Calculates amplitude spectrum of a signal with FFT optionally smoothed via cubic interpolation.\n",
    "\n",
    "    INPUT\n",
    "    signal: 1D numpy array\n",
    "    sr: sample rate in ms\n",
    "    smooth: True or False\n",
    "\n",
    "    OUTPUT\n",
    "    freq: frequency\n",
    "    amp: amplitude\n",
    "    '''\n",
    "\n",
    "    SIGNAL = np.fft.fft(signal)\n",
    "    freq = np.fft.fftfreq(signal.size, d=sr*0.001)\n",
    "    # keep = (freq>=0) & (freq<=freq.max()/2)\n",
    "    keep = freq>=0\n",
    "    SIGNAL = np.abs(SIGNAL[keep])\n",
    "    freq = freq[keep]\n",
    "    if smooth:\n",
    "        # freq0=np.linspace(freq.min(),freq.max()/2,freq.size*10)\n",
    "        freq0=np.linspace(freq.min(),freq.max(),freq.size*10)\n",
    "        f = interpolate.interp1d(freq, SIGNAL, kind='cubic')\n",
    "        return freq0, f(freq0)\n",
    "    else:\n",
    "        return freq, SIGNAL\n",
    "\n",
    "\n",
    "def fullspec(data,sr):\n",
    "    '''\n",
    "    fullspec (C) aadm 2016\n",
    "    Calculates amplitude spectrum of 2D numpy array.\n",
    "\n",
    "    INPUT\n",
    "    data: 2D numpy array, shape=(samples, traces)\n",
    "    sr: sample rate in ms\n",
    "\n",
    "    OUTPUT\n",
    "    freq: frequency\n",
    "    amp: amplitude\n",
    "    db: amplitude in dB scale\n",
    "    f_peak: average peak frequency\n",
    "    '''\n",
    "    amps, peaks = [], []\n",
    "    for i in range(data.shape[1]):\n",
    "        trace = data[:,i]\n",
    "        freq, amp = ampspec(trace,sr)\n",
    "        peak = freq[np.argmax(amp)]\n",
    "        amps.append(amp)\n",
    "        peaks.append(peak)\n",
    "    amp0 = np.mean(np.dstack(amps), axis=-1)\n",
    "    amp0 = np.squeeze(amp0)\n",
    "    db0 = 20 * np.log10(amp0)\n",
    "    db0 = db0 - np.amax(db0)\n",
    "    f_peak = np.mean(peaks)\n",
    "    print('freq peak: {:.2f} Hz'.format(f_peak))\n",
    "    return freq,amp0,db0,f_peak\n",
    "\n",
    "def plot_ampspec(freq,amp,f_peak,name=None):\n",
    "    '''\n",
    "    plot_ampspec (C) aadm 2016\n",
    "    Plots amplitude spectrum calculated with fullspec (aageofisica.py).\n",
    "\n",
    "    INPUT\n",
    "    freq: frequency\n",
    "    amp: amplitude\n",
    "    f_peak: average peak frequency\n",
    "    '''\n",
    "    db = 20 * np.log10(amp)\n",
    "    db = db - np.amax(db)\n",
    "    f, ax = plt.subplots(nrows=1,ncols=2,figsize=(12,5),facecolor='w')\n",
    "    ax[0].plot(freq, amp, '-k', lw=2)\n",
    "    ax[0].set_ylabel('Power')\n",
    "    ax[1].plot(freq, db, '-k', lw=2)\n",
    "    ax[1].set_ylabel('Power (dB)')\n",
    "    for aa in ax:\n",
    "        aa.set_xlabel('Frequency (Hz)')\n",
    "        aa.set_xlim([0,np.amax(freq)/1.5])\n",
    "        aa.grid()\n",
    "        aa.axvline(f_peak, color='r', ls='-')\n",
    "        if name!=None:\n",
    "            aa.set_title(name, fontsize=16)\n",
    "\n",
    "def plot_ampspec2(freq,amp1,amp2,f_peak1,f_peak2,name1=None,name2=None):\n",
    "    '''\n",
    "    plot_ampspec2 (C) aadm 2016\n",
    "    Plots overlay of 2 amplitude spectra calculated with fullspec (aageofisica.py).\n",
    "\n",
    "    INPUT\n",
    "    freq: frequency\n",
    "    amp1, amp2: amplitude spectra\n",
    "    f_peak1, f_peak2: average peak frequency\n",
    "    '''\n",
    "    db1 = 20 * np.log10(amp1)\n",
    "    db1 = db1 - np.amax(db1)\n",
    "    db2 = 20 * np.log10(amp2)\n",
    "    db2 = db2 - np.amax(db2)\n",
    "    f, ax = plt.subplots(nrows=1,ncols=2,figsize=(12,5),facecolor='w')\n",
    "    if name1!=None:\n",
    "        label1='{:s} Fp={:.0f} Hz'.format(name1,f_peak1)\n",
    "        label2='{:s} Fp={:.0f} Hz'.format(name2,f_peak2)\n",
    "    else:\n",
    "        label1='Fp={:.0f} Hz'.format(f_peak1)\n",
    "        label2='Fp={:.0f} Hz'.format(f_peak2)\n",
    "    ax[0].plot(freq, amp1, '-k', lw=2, label=label1)\n",
    "    ax[0].plot(freq, amp2, '-r', lw=2, label=label2)\n",
    "    ax[0].fill_between(freq,0,amp1,lw=0, facecolor='k',alpha=0.25)\n",
    "    ax[0].fill_between(freq,0,amp2,lw=0, facecolor='r',alpha=0.25)\n",
    "    ax[0].set_ylabel('Power')\n",
    "    ax[1].plot(freq, db1, '-k', lw=2, label=label1)\n",
    "    ax[1].plot(freq, db2, '-r', lw=2,label=label2)\n",
    "    lower_limit=np.min(ax[1].get_ylim())\n",
    "    ax[1].fill_between(freq, db1, lower_limit, lw=0, facecolor='k', alpha=0.25)\n",
    "    ax[1].fill_between(freq, db2, lower_limit, lw=0, facecolor='r', alpha=0.25)\n",
    "    ax[1].set_ylabel('Power (dB)')\n",
    "    for aa in ax:\n",
    "        aa.set_xlabel('Frequency (Hz)')\n",
    "        aa.set_xlim([0,np.amax(freq)/1.5])\n",
    "        aa.grid()\n",
    "        aa.axvline(f_peak1, color='k', ls='-')\n",
    "        aa.axvline(f_peak2, color='r', ls='-')\n",
    "        aa.legend(fontsize='small')\n",
    "\n",
    "\n",
    "\n",
    "\n",
    "def inst_attribute(data):\n",
    "    rows, columns = data.shape\n",
    "    new_data = np.zeros((rows,columns))\n",
    "    for i in range(columns):\n",
    "        analytic_signal = hilbert(data[:, i])\n",
    "        amplitude_envelope = np.abs(analytic_signal)\n",
    "        new_data[:,i] = amplitude_envelope\n",
    "    return new_data\n",
    "\n",
    "\n",
    "\n",
    "\n",
    "def f(x):\n",
    "    plt.figure(figsize=(16,8))\n",
    "    data = threeDSamples.T\n",
    "    chop = data[:,:,x]\n",
    "    new_data = inst_attribute(chop)\n",
    "    plt.imshow(new_data, interpolation='bilinear', cmap=\"seismic\", vmin=-vm, vmax=vm, aspect='auto')\n",
    "    plt.colorbar(shrink=0.5)\n",
    "    plt.show()\n",
    "    #return x\n",
    "#interact(myplot, start = 0, x_max=10);\n",
    "interact(f, x=widgets.IntSlider(min=0,max=x_max,step=1,value=10));\n",
    "\n",
    "\n",
    "def ff(x):\n",
    "    plt.figure(figsize=(16,8))\n",
    "    data = threeDSamples.T\n",
    "    plt.imshow(data[:,x,:], interpolation='bilinear', cmap=\"seismic\", vmin=-vm, vmax=vm, aspect='auto')\n",
    "    plt.colorbar(shrink=0.5)\n",
    "    plt.show()\n",
    "    #return x\n",
    "#interact(myplot, start = 0, x_max=10);\n",
    "interact(ff, x=widgets.IntSlider(min=0,max=y_max,step=1,value=10));\n",
    "\n",
    "def fff(x):\n",
    "    plt.figure(figsize=(16,8))\n",
    "    data = threeDSamples.T\n",
    "    plt.imshow(data[x,:,:], interpolation='bilinear', cmap=\"gray\", vmin=-vm, vmax=vm, aspect='auto')\n",
    "    plt.colorbar(shrink=0.5)\n",
    "    plt.show()\n",
    "    #return x\n",
    "#interact(myplot, start = 0, x_max=10);\n",
    "interact(fff, x=widgets.IntSlider(min=0,max=samples,step=1,value=10));\n",
    "\n",
    "def spec_decomp(x):\n",
    "    \n",
    "    data = threeDSamples.T\n",
    "    chop = data[x,:,:]\n",
    "    \n",
    "    sampling_rate = stream.binary_file_header.sample_interval_in_microseconds/1000 # converts sample rate to milliseconds :-)\n",
    "    # filter definition\n",
    "    sample_frequency = 1/(sampling_rate*.001) # the 0.001 convets sample rate from ms to s\n",
    "    nyq = 0.5 * sample_frequency\n",
    "    print ('The sample frequency is: {} Hz'.format(sample_frequency))\n",
    "    print ('The nyquist frequency is: {} Hz'.format(nyq))\n",
    "    order = 7\n",
    "    cuttoff = 20 #my cutoff frequency\n",
    "    B,A = signal.butter(order, cuttoff/nyq, btype='lowpass', analog=False) #btype='lowpass', #we wont use this coz no min max limit of freq..\n",
    "    lowcut = 40\n",
    "    highcut= 100\n",
    "\n",
    "    fmin    = lowcut/nyq\n",
    "    fmax    = highcut/nyq\n",
    "\n",
    "    #Make filter shape\n",
    "    corners=4\n",
    "    B, A = signal.iirfilter(corners, [fmin,fmax], btype='band', ftype='butter')\n",
    "\n",
    "    # filter application\n",
    "    line1_filt = signal.filtfilt(B,A,chop,axis=0)\n",
    "    \n",
    "    freq,amp,db,fpeak = fullspec(line1_filt,sampling_rate)\n",
    "    plot_ampspec(freq,amp,fpeak,name=None)\n",
    "    \n",
    "    plt.figure(figsize=(16,8))\n",
    "    plt.imshow(line1_filt, interpolation='bilinear', cmap=\"seismic\", vmin=-vm, vmax=vm, aspect='auto')\n",
    "    plt.colorbar(shrink=0.5)\n",
    "    plt.show()\n",
    "    #return x\n",
    "#interact(myplot, start = 0, x_max=10);\n",
    "interact(spec_decomp, x=widgets.IntSlider(min=40,max=100,step=1,value=10));#min max must match lowcut highcut freq in filter\n",
    "\n"
   ]
  },
  {
   "cell_type": "code",
   "execution_count": 9,
   "metadata": {
    "collapsed": true
   },
   "outputs": [],
   "source": [
    "arr = np.arange(100)"
   ]
  },
  {
   "cell_type": "code",
   "execution_count": 10,
   "metadata": {},
   "outputs": [
    {
     "name": "stdout",
     "output_type": "stream",
     "text": [
      "[[[ 0  1  2  3  4  5  6  7  8  9]\n",
      "  [10 11 12 13 14 15 16 17 18 19]\n",
      "  [20 21 22 23 24 25 26 27 28 29]\n",
      "  [30 31 32 33 34 35 36 37 38 39]\n",
      "  [40 41 42 43 44 45 46 47 48 49]]\n",
      "\n",
      " [[50 51 52 53 54 55 56 57 58 59]\n",
      "  [60 61 62 63 64 65 66 67 68 69]\n",
      "  [70 71 72 73 74 75 76 77 78 79]\n",
      "  [80 81 82 83 84 85 86 87 88 89]\n",
      "  [90 91 92 93 94 95 96 97 98 99]]]\n"
     ]
    }
   ],
   "source": [
    "arr = arr.reshape(2,5,10)\n",
    "print(arr)"
   ]
  },
  {
   "cell_type": "code",
   "execution_count": 11,
   "metadata": {},
   "outputs": [
    {
     "name": "stdout",
     "output_type": "stream",
     "text": [
      "[[ 0  1  2  3  4  5  6  7  8  9]\n",
      " [10 11 12 13 14 15 16 17 18 19]\n",
      " [20 21 22 23 24 25 26 27 28 29]\n",
      " [30 31 32 33 34 35 36 37 38 39]\n",
      " [40 41 42 43 44 45 46 47 48 49]]\n"
     ]
    }
   ],
   "source": [
    "print(arr[0])"
   ]
  },
  {
   "cell_type": "code",
   "execution_count": 12,
   "metadata": {},
   "outputs": [
    {
     "name": "stdout",
     "output_type": "stream",
     "text": [
      "(10, 5, 2)\n",
      "[[[ 0 50]\n",
      "  [10 60]\n",
      "  [20 70]\n",
      "  [30 80]\n",
      "  [40 90]]\n",
      "\n",
      " [[ 1 51]\n",
      "  [11 61]\n",
      "  [21 71]\n",
      "  [31 81]\n",
      "  [41 91]]\n",
      "\n",
      " [[ 2 52]\n",
      "  [12 62]\n",
      "  [22 72]\n",
      "  [32 82]\n",
      "  [42 92]]\n",
      "\n",
      " [[ 3 53]\n",
      "  [13 63]\n",
      "  [23 73]\n",
      "  [33 83]\n",
      "  [43 93]]\n",
      "\n",
      " [[ 4 54]\n",
      "  [14 64]\n",
      "  [24 74]\n",
      "  [34 84]\n",
      "  [44 94]]\n",
      "\n",
      " [[ 5 55]\n",
      "  [15 65]\n",
      "  [25 75]\n",
      "  [35 85]\n",
      "  [45 95]]\n",
      "\n",
      " [[ 6 56]\n",
      "  [16 66]\n",
      "  [26 76]\n",
      "  [36 86]\n",
      "  [46 96]]\n",
      "\n",
      " [[ 7 57]\n",
      "  [17 67]\n",
      "  [27 77]\n",
      "  [37 87]\n",
      "  [47 97]]\n",
      "\n",
      " [[ 8 58]\n",
      "  [18 68]\n",
      "  [28 78]\n",
      "  [38 88]\n",
      "  [48 98]]\n",
      "\n",
      " [[ 9 59]\n",
      "  [19 69]\n",
      "  [29 79]\n",
      "  [39 89]\n",
      "  [49 99]]]\n"
     ]
    }
   ],
   "source": [
    "print(arr.T.shape)\n",
    "print(arr.T)"
   ]
  },
  {
   "cell_type": "code",
   "execution_count": null,
   "metadata": {
    "collapsed": true
   },
   "outputs": [],
   "source": []
  }
 ],
 "metadata": {
  "kernelspec": {
   "display_name": "Python 3",
   "language": "python",
   "name": "python3"
  },
  "language_info": {
   "codemirror_mode": {
    "name": "ipython",
    "version": 3
   },
   "file_extension": ".py",
   "mimetype": "text/x-python",
   "name": "python",
   "nbconvert_exporter": "python",
   "pygments_lexer": "ipython3",
   "version": "3.6.5"
  }
 },
 "nbformat": 4,
 "nbformat_minor": 2
}
