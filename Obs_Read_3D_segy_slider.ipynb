{
 "cells": [
  {
   "cell_type": "code",
   "execution_count": 4,
   "metadata": {
    "collapsed": true
   },
   "outputs": [],
   "source": [
    "import numpy as np\n",
    "import matplotlib.pyplot as plt\n",
    "%matplotlib inline"
   ]
  },
  {
   "cell_type": "code",
   "execution_count": 5,
   "metadata": {
    "collapsed": true
   },
   "outputs": [],
   "source": [
    "filename = 'C:/Users/Anna Marie/Downloads/filt_mig.sgy'"
   ]
  },
  {
   "cell_type": "code",
   "execution_count": 6,
   "metadata": {},
   "outputs": [],
   "source": [
    "from obspy.io.segy.segy import _read_segy\n",
    "stream = _read_segy(filename, headonly=True)"
   ]
  },
  {
   "cell_type": "code",
   "execution_count": 7,
   "metadata": {
    "collapsed": true
   },
   "outputs": [],
   "source": [
    "\n",
    "traces_with_indexes = []\n",
    "\n",
    "for trace in stream.traces[:10000]:\n",
    "    x = trace.header.x_coordinate_of_ensemble_position_of_this_trace - 1\n",
    "    y = trace.header.y_coordinate_of_ensemble_position_of_this_trace - 1\n",
    "\n",
    "    traces_with_indexes.append((x,y, trace.data))\n"
   ]
  },
  {
   "cell_type": "code",
   "execution_count": 8,
   "metadata": {},
   "outputs": [
    {
     "name": "stdout",
     "output_type": "stream",
     "text": [
      "53 187\n"
     ]
    }
   ],
   "source": [
    "x_max = max(traces_with_indexes, key = lambda x: x[0])[0]\n",
    "y_max = max(traces_with_indexes, key = lambda x: x[1])[1]\n",
    "\n",
    "print(x_max, y_max)"
   ]
  },
  {
   "cell_type": "code",
   "execution_count": 9,
   "metadata": {
    "collapsed": true
   },
   "outputs": [],
   "source": [
    "x_len = x_max + 1\n",
    "y_len = y_max + 1\n",
    "s_len = len(traces_with_indexes[0][2])\n",
    "threeDSamples = np.zeros((x_len, y_len, s_len))"
   ]
  },
  {
   "cell_type": "code",
   "execution_count": 10,
   "metadata": {
    "collapsed": true
   },
   "outputs": [],
   "source": [
    "for xy_trace in traces_with_indexes:\n",
    "    x = xy_trace[0]\n",
    "    y = xy_trace[1]\n",
    "    samples = xy_trace[2]\n",
    "    threeDSamples[x, y] = samples"
   ]
  },
  {
   "cell_type": "code",
   "execution_count": 70,
   "metadata": {},
   "outputs": [
    {
     "data": {
      "application/vnd.jupyter.widget-view+json": {
       "model_id": "d9e71e787cde4dba9e32138f523af51a",
       "version_major": 2,
       "version_minor": 0
      },
      "text/plain": [
       "interactive(children=(IntSlider(value=10, description='x', max=53), Output()), _dom_classes=('widget-interact'…"
      ]
     },
     "metadata": {},
     "output_type": "display_data"
    },
    {
     "data": {
      "application/vnd.jupyter.widget-view+json": {
       "model_id": "fac0a9c44d1d4766964aeeaba65a32cc",
       "version_major": 2,
       "version_minor": 0
      },
      "text/plain": [
       "interactive(children=(IntSlider(value=10, description='x', max=187), Output()), _dom_classes=('widget-interact…"
      ]
     },
     "metadata": {},
     "output_type": "display_data"
    },
    {
     "data": {
      "application/vnd.jupyter.widget-view+json": {
       "model_id": "7cd22cdf6ff94511b14fd23b48152263",
       "version_major": 2,
       "version_minor": 0
      },
      "text/plain": [
       "interactive(children=(IntSlider(value=10, description='x', max=1500), Output()), _dom_classes=('widget-interac…"
      ]
     },
     "metadata": {},
     "output_type": "display_data"
    }
   ],
   "source": [
    "vm = np.percentile(threeDSamples, 99)\n",
    "\n",
    "from ipywidgets import interact, interactive, fixed, interact_manual\n",
    "import ipywidgets as widgets\n",
    "samples   = stream.binary_file_header.number_of_samples_per_data_trace\n",
    "samples = samples -1\n",
    "\n",
    "def f(x):\n",
    "    plt.figure(figsize=(16,8))\n",
    "    plt.imshow(threeDSamples[x].T, cmap=\"seismic\", vmin=-vm, vmax=vm, aspect=0.25)\n",
    "    plt.colorbar(shrink=0.5)\n",
    "    plt.show()\n",
    "    #return x\n",
    "#interact(myplot, start = 0, x_max=10);\n",
    "interact(f, x=widgets.IntSlider(min=0,max=x_max,step=1,value=10));\n",
    "\n",
    "\n",
    "def ff(x):\n",
    "    plt.figure(figsize=(16,8))\n",
    "    plt.imshow(threeDSamples[:,x,:].T, cmap=\"seismic\", vmin=-vm, vmax=vm, aspect=0.25)\n",
    "    plt.colorbar(shrink=0.5)\n",
    "    plt.show()\n",
    "    #return x\n",
    "#interact(myplot, start = 0, x_max=10);\n",
    "interact(ff, x=widgets.IntSlider(min=0,max=y_max,step=1,value=10));\n",
    "\n",
    "def fff(x):\n",
    "    plt.figure(figsize=(16,8))\n",
    "    plt.imshow(threeDSamples[:,:,x].T, cmap=\"gray\", vmin=-vm, vmax=vm, aspect=0.25)\n",
    "    plt.colorbar(shrink=0.5)\n",
    "    plt.show()\n",
    "    #return x\n",
    "#interact(myplot, start = 0, x_max=10);\n",
    "interact(fff, x=widgets.IntSlider(min=0,max=samples,step=1,value=10));\n"
   ]
  },
  {
   "cell_type": "code",
   "execution_count": null,
   "metadata": {},
   "outputs": [],
   "source": []
  },
  {
   "cell_type": "code",
   "execution_count": null,
   "metadata": {
    "collapsed": true
   },
   "outputs": [],
   "source": []
  }
 ],
 "metadata": {
  "kernelspec": {
   "display_name": "Python 3",
   "language": "python",
   "name": "python3"
  },
  "language_info": {
   "codemirror_mode": {
    "name": "ipython",
    "version": 3
   },
   "file_extension": ".py",
   "mimetype": "text/x-python",
   "name": "python",
   "nbconvert_exporter": "python",
   "pygments_lexer": "ipython3",
   "version": "3.6.3"
  }
 },
 "nbformat": 4,
 "nbformat_minor": 2
}
