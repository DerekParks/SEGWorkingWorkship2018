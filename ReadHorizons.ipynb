{
 "cells": [
  {
   "cell_type": "code",
   "execution_count": 187,
   "metadata": {},
   "outputs": [
    {
     "ename": "TypeError",
     "evalue": "zip argument #2 must support iteration",
     "output_type": "error",
     "traceback": [
      "\u001b[0;31m---------------------------------------------------------------------------\u001b[0m",
      "\u001b[0;31mTypeError\u001b[0m                                 Traceback (most recent call last)",
      "\u001b[0;32m<ipython-input-187-c6054013cc47>\u001b[0m in \u001b[0;36m<module>\u001b[0;34m()\u001b[0m\n\u001b[1;32m     61\u001b[0m         \u001b[0;32mreturn\u001b[0m \u001b[0mlist\u001b[0m\u001b[0;34m(\u001b[0m\u001b[0mzip\u001b[0m\u001b[0;34m(\u001b[0m\u001b[0mgb\u001b[0m\u001b[0;34m.\u001b[0m\u001b[0mgroups\u001b[0m\u001b[0;34m.\u001b[0m\u001b[0mkeys\u001b[0m\u001b[0;34m(\u001b[0m\u001b[0;34m)\u001b[0m\u001b[0;34m,\u001b[0m \u001b[0mhznToNp\u001b[0m\u001b[0;34m)\u001b[0m\u001b[0;34m)\u001b[0m\u001b[0;34m\u001b[0m\u001b[0m\n\u001b[1;32m     62\u001b[0m \u001b[0;34m\u001b[0m\u001b[0m\n\u001b[0;32m---> 63\u001b[0;31m \u001b[0mhorizons\u001b[0m \u001b[0;34m=\u001b[0m \u001b[0mread_horizons\u001b[0m\u001b[0;34m(\u001b[0m\u001b[0mhorizon_path\u001b[0m\u001b[0;34m)\u001b[0m\u001b[0;34m\u001b[0m\u001b[0m\n\u001b[0m",
      "\u001b[0;32m<ipython-input-187-c6054013cc47>\u001b[0m in \u001b[0;36mread_horizons\u001b[0;34m(horizon_path)\u001b[0m\n\u001b[1;32m     59\u001b[0m \u001b[0;34m\u001b[0m\u001b[0m\n\u001b[1;32m     60\u001b[0m         \u001b[0mhorizons\u001b[0m \u001b[0;34m=\u001b[0m \u001b[0mgb\u001b[0m\u001b[0;34m.\u001b[0m\u001b[0mapply\u001b[0m\u001b[0;34m(\u001b[0m\u001b[0mhznToNp\u001b[0m\u001b[0;34m)\u001b[0m\u001b[0;34m\u001b[0m\u001b[0m\n\u001b[0;32m---> 61\u001b[0;31m         \u001b[0;32mreturn\u001b[0m \u001b[0mlist\u001b[0m\u001b[0;34m(\u001b[0m\u001b[0mzip\u001b[0m\u001b[0;34m(\u001b[0m\u001b[0mgb\u001b[0m\u001b[0;34m.\u001b[0m\u001b[0mgroups\u001b[0m\u001b[0;34m.\u001b[0m\u001b[0mkeys\u001b[0m\u001b[0;34m(\u001b[0m\u001b[0;34m)\u001b[0m\u001b[0;34m,\u001b[0m \u001b[0mhznToNp\u001b[0m\u001b[0;34m)\u001b[0m\u001b[0;34m)\u001b[0m\u001b[0;34m\u001b[0m\u001b[0m\n\u001b[0m\u001b[1;32m     62\u001b[0m \u001b[0;34m\u001b[0m\u001b[0m\n\u001b[1;32m     63\u001b[0m \u001b[0mhorizons\u001b[0m \u001b[0;34m=\u001b[0m \u001b[0mread_horizons\u001b[0m\u001b[0;34m(\u001b[0m\u001b[0mhorizon_path\u001b[0m\u001b[0;34m)\u001b[0m\u001b[0;34m\u001b[0m\u001b[0m\n",
      "\u001b[0;31mTypeError\u001b[0m: zip argument #2 must support iteration"
     ]
    }
   ],
   "source": [
    "import pandas as pd\n",
    "import numpy as np\n",
    "horizon_path = '/home/dparks/Downloads/rmotc/DataSets/Seismic/CD files/3D_Seismic/3DHorizons.xyz'\n",
    "\n",
    "#from the sismic\n",
    "in_max = 345\n",
    "xl_max = 188\n",
    "\n",
    "in_min = 1\n",
    "xl_min = 1\n",
    "\n",
    "sample_rate = 0.002\n",
    "\n",
    "in_len = (in_max - in_min) + 1;\n",
    "xl_len = (xl_max - xl_min) + 1;\n",
    "\n",
    "def hznToNpInterp(hzn):\n",
    "    from scipy.interpolate import griddata\n",
    "    points = []\n",
    "    values = []\n",
    "    \n",
    "    grid_x, grid_y = np.mgrid[0:in_len:in_len,0:xl_len,xl_len]\n",
    "    \n",
    "    for i,row in hzn.iterrows():\n",
    "        x = int(row['inline'] - in_min)\n",
    "        y = int(row['xline'] - xl_min)\n",
    "\n",
    "        points.append((x,y))\n",
    "        values.append(float(row['Time']))\n",
    "        \n",
    "    result = griddata(points, values, (grid_x, grid_y), method='cubic') \n",
    "    print(result)\n",
    "    return result\n",
    "\n",
    "def hznToNp(hzn):\n",
    "    result = np.zeros((in_len, xl_len))\n",
    "    \n",
    "    for i,row in hzn.iterrows():\n",
    "        x = int(row['inline'] - in_min)\n",
    "        y = int(row['xline'] - xl_min)\n",
    "\n",
    "        result[x][y] = float(row['Time'])\n",
    "        \n",
    "    return result\n",
    "\n",
    "import numpy as np\n",
    "import matplotlib.pyplot as plt\n",
    "%matplotlib inline\n",
    "\n",
    "def read_horizons(horizon_path):\n",
    "    with open(horizon_path) as f:\n",
    "        hznDF = pd.read_csv(f, header=0, delim_whitespace=True)\n",
    "\n",
    "        hznDF['inline'].astype(np.int32)\n",
    "        hznDF['xline'].astype(np.int32)\n",
    "        hznDF['Time'].astype(np.float32)\n",
    "\n",
    "        gb = hznDF.groupby(\"Horizon\")\n",
    "\n",
    "        horizons = gb.apply(hznToNp)\n",
    "        return list(zip(gb.groups.keys(), hznToNp)) \n",
    "   \n",
    "horizons = read_horizons(horizon_path)"
   ]
  },
  {
   "cell_type": "code",
   "execution_count": null,
   "metadata": {
    "scrolled": false
   },
   "outputs": [],
   "source": [
    "def show_plot(i):\n",
    "    name, horizon = horizons[i]\n",
    "    flattened = horizon.flatten() \n",
    "\n",
    "    print(name)\n",
    "    nonZeroMin = min(filter(lambda x: x != 0, flattened.tolist()))\n",
    "    \n",
    "    plt.figure(figsize=(16,8))\n",
    "    plt.imshow(horizon, cmap=\"jet\", vmin=nonZeroMin, vmax=horizon.max(), aspect=0.25)\n",
    "    plt.colorbar(shrink=0.5)\n",
    "    plt.show()\n",
    "\n",
    "from ipywidgets import interact, interactive, fixed, interact_manual\n",
    "import ipywidgets as widgets\n",
    "interact(show_plot, i=widgets.IntSlider(min=0, max=len(horizons)-1, step=1, value=0))"
   ]
  },
  {
   "cell_type": "code",
   "execution_count": null,
   "metadata": {},
   "outputs": [],
   "source": [
    "    "
   ]
  },
  {
   "cell_type": "code",
   "execution_count": null,
   "metadata": {},
   "outputs": [],
   "source": []
  },
  {
   "cell_type": "code",
   "execution_count": 26,
   "metadata": {},
   "outputs": [],
   "source": [
    "filename = '/home/dparks/Downloads/rmotc/DataSets/Seismic/CD files/3D_Seismic/filt_mig.sgy'\n",
    "\n",
    "\n",
    "from obspy.io.segy.segy import _read_segy\n",
    "stream = _read_segy(filename, headonly=True)"
   ]
  },
  {
   "cell_type": "code",
   "execution_count": 21,
   "metadata": {},
   "outputs": [
    {
     "name": "stdout",
     "output_type": "stream",
     "text": [
      "2000\n"
     ]
    }
   ],
   "source": [
    "sampleRate = stream.binary_file_header.sample_interval_in_microseconds\n",
    "print(sampleRate)"
   ]
  },
  {
   "cell_type": "code",
   "execution_count": null,
   "metadata": {},
   "outputs": [],
   "source": []
  }
 ],
 "metadata": {
  "kernelspec": {
   "display_name": "Python 3",
   "language": "python",
   "name": "python3"
  },
  "language_info": {
   "codemirror_mode": {
    "name": "ipython",
    "version": 3
   },
   "file_extension": ".py",
   "mimetype": "text/x-python",
   "name": "python",
   "nbconvert_exporter": "python",
   "pygments_lexer": "ipython3",
   "version": "3.6.5"
  }
 },
 "nbformat": 4,
 "nbformat_minor": 2
}
