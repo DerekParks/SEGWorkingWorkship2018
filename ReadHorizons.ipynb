{
 "cells": [
  {
   "cell_type": "code",
   "execution_count": 218,
   "metadata": {},
   "outputs": [],
   "source": [
    "import pandas as pd\n",
    "import numpy as np\n",
    "horizon_path = '/home/dparks/Downloads/rmotc/DataSets/Seismic/CD files/3D_Seismic/3DHorizons.xyz'\n",
    "segy_path = '/home/dparks/Downloads/rmotc/DataSets/Seismic/CD files/3D_Seismic/filt_mig.sgy'\n",
    "#from the sismic\n",
    "in_max = 345\n",
    "xl_max = 188\n",
    "\n",
    "in_min = 1\n",
    "xl_min = 1\n",
    "\n",
    "sample_rate = 0.002\n",
    "\n",
    "in_len = (in_max - in_min) + 1;\n",
    "xl_len = (xl_max - xl_min) + 1;\n",
    "\n",
    "def hznToNpInterp(hzn):\n",
    "    from scipy.interpolate import griddata\n",
    "    points = []\n",
    "    values = []\n",
    "    \n",
    "    grid_x, grid_y = np.mgrid[0:in_len,0:xl_len]\n",
    "    \n",
    "    for i,row in hzn.iterrows():\n",
    "        x = int(row['inline'] - in_min)\n",
    "        y = int(row['xline'] - xl_min)\n",
    "\n",
    "        points.append((x,y))\n",
    "        values.append(float(row['Time']))\n",
    "        \n",
    "    result = griddata(points, values, (grid_x, grid_y), method='cubic') \n",
    "    print(result)\n",
    "    return result\n",
    "\n",
    "def hznToNp(hzn):\n",
    "    result = np.zeros((in_len, xl_len))\n",
    "    \n",
    "    for i,row in hzn.iterrows():\n",
    "        x = int(row['inline'] - in_min)\n",
    "        y = int(row['xline'] - xl_min)\n",
    "\n",
    "        result[x][y] = float(row['Time'])\n",
    "        \n",
    "    return result\n",
    "\n",
    "import numpy as np\n",
    "import matplotlib.pyplot as plt\n",
    "%matplotlib inline\n",
    "\n",
    "def read_horizons(horizon_path):\n",
    "    with open(horizon_path) as f:\n",
    "        hznDF = pd.read_csv(f, header=0, delim_whitespace=True)\n",
    "\n",
    "        hznDF['inline'].astype(np.int32)\n",
    "        hznDF['xline'].astype(np.int32)\n",
    "        hznDF['Time'].astype(np.float32)\n",
    "\n",
    "        gb = hznDF.groupby(\"Horizon\")\n",
    "\n",
    "        horizons = gb.apply(hznToNp)\n",
    "        return list(zip(gb.groups.keys(), horizons)) \n",
    "   \n",
    "horizons = read_horizons(horizon_path)"
   ]
  },
  {
   "cell_type": "code",
   "execution_count": 219,
   "metadata": {},
   "outputs": [
    {
     "data": {
      "application/vnd.jupyter.widget-view+json": {
       "model_id": "b72ac4ed819d4ba3929bb15546758a5b",
       "version_major": 2,
       "version_minor": 0
      },
      "text/plain": [
       "interactive(children=(IntSlider(value=0, description='i', max=8), Output()), _dom_classes=('widget-interact',)…"
      ]
     },
     "metadata": {},
     "output_type": "display_data"
    },
    {
     "data": {
      "text/plain": [
       "<function __main__.show_plot(i)>"
      ]
     },
     "execution_count": 219,
     "metadata": {},
     "output_type": "execute_result"
    }
   ],
   "source": [
    "def show_plot(i):\n",
    "    name, horizon = horizons[i]\n",
    "    flattened = horizon.flatten() \n",
    "\n",
    "    print(name)\n",
    "    nonZeroMin = min(filter(lambda x: x != 0, flattened.tolist()))\n",
    "    \n",
    "    plt.figure(figsize=(16,8))\n",
    "    plt.imshow(horizon, cmap=\"jet\", vmin=nonZeroMin, vmax=horizon.max(), aspect=0.25)\n",
    "    plt.colorbar(shrink=0.5)\n",
    "    plt.show()\n",
    "\n",
    "from ipywidgets import interact, interactive, fixed, interact_manual\n",
    "import ipywidgets as widgets\n",
    "interact(show_plot, i=widgets.IntSlider(min=0, max=len(horizons)-1, step=1, value=0))"
   ]
  },
  {
   "cell_type": "code",
   "execution_count": 220,
   "metadata": {},
   "outputs": [],
   "source": [
    "def save_horizon(name, horizon):\n",
    "    np.save('%s_Horizon.np' % name, horizon)\n",
    "\n",
    "def read_segy(filename):\n",
    "    from obspy.io.segy.segy import _read_segy\n",
    "    stream = _read_segy(filename, headonly=True)\n",
    "\n",
    "    traces_with_indexes = []\n",
    "\n",
    "    for trace in stream.traces:\n",
    "        x = trace.header.x_coordinate_of_ensemble_position_of_this_trace - 1\n",
    "        y = trace.header.y_coordinate_of_ensemble_position_of_this_trace - 1\n",
    "\n",
    "        traces_with_indexes.append((x,y, trace.data))\n",
    "        \n",
    "    x_max = max(traces_with_indexes, key = lambda x: x[0])[0]\n",
    "    y_max = max(traces_with_indexes, key = lambda x: x[1])[1]\n",
    "\n",
    "    x_len = x_max + 1\n",
    "    y_len = y_max + 1\n",
    "    s_len = len(traces_with_indexes[0][2])\n",
    "    threeDSamples = np.zeros((x_len, y_len, s_len))\n",
    "    \n",
    "    for xy_trace in traces_with_indexes:\n",
    "        x = xy_trace[0]\n",
    "        y = xy_trace[1]\n",
    "        samples = xy_trace[2]\n",
    "        threeDSamples[x, y] = samples\n",
    "    return threeDSamples\n",
    "\n",
    "data = read_segy(segy_path)\n"
   ]
  },
  {
   "cell_type": "code",
   "execution_count": 223,
   "metadata": {},
   "outputs": [
    {
     "data": {
      "image/png": "[encoded data removed]",
      "text/plain": [
       "<Figure size 1152x576 with 2 Axes>"
      ]
     },
     "metadata": {},
     "output_type": "display_data"
    }
   ],
   "source": [
    "def strat_slice(data, horizon_times, window_size):\n",
    "    s_len = 2 * window_size + 1\n",
    "    x_len , y_len = horizon_times.shape\n",
    "    result = np.zeros((x_len, y_len, s_len))\n",
    "    \n",
    "    for ix,iy in np.ndindex(horizon_times.shape):\n",
    "        time = horizon_times[ix,iy]\n",
    "        \n",
    "        if time == 0.0:\n",
    "            continue\n",
    "        \n",
    "        ik = min(int(time/sample_rate + 0.5), data.shape[2] - 1)\n",
    "        result[ix,iy] = data[ix,iy, ik - window_size : ik + window_size + 1]\n",
    "    \n",
    "    return result\n",
    "\n",
    "strat_data = strat_slice(data, horizons[0][1], 10)\n",
    "\n",
    "strat_data = strat_data[:,:,10]\n",
    "\n",
    "vm = np.percentile(strat_data, 99)\n",
    "\n",
    "plt.figure(figsize=(16,8))\n",
    "plt.imshow(strat_data.T, cmap=\"seismic\", vmin=-vm, vmax=vm, aspect=0.25)\n",
    "plt.colorbar(shrink=0.5)\n",
    "plt.show()\n"
   ]
  },
  {
   "cell_type": "code",
   "execution_count": null,
   "metadata": {
    "scrolled": false
   },
   "outputs": [],
   "source": []
  },
  {
   "cell_type": "code",
   "execution_count": null,
   "metadata": {},
   "outputs": [],
   "source": [
    "    "
   ]
  },
  {
   "cell_type": "code",
   "execution_count": null,
   "metadata": {},
   "outputs": [],
   "source": []
  },
  {
   "cell_type": "code",
   "execution_count": 26,
   "metadata": {},
   "outputs": [],
   "source": []
  },
  {
   "cell_type": "code",
   "execution_count": 21,
   "metadata": {},
   "outputs": [
    {
     "name": "stdout",
     "output_type": "stream",
     "text": [
      "2000\n"
     ]
    }
   ],
   "source": []
  },
  {
   "cell_type": "code",
   "execution_count": null,
   "metadata": {},
   "outputs": [],
   "source": []
  }
 ],
 "metadata": {
  "kernelspec": {
   "display_name": "Python 3",
   "language": "python",
   "name": "python3"
  },
  "language_info": {
   "codemirror_mode": {
    "name": "ipython",
    "version": 3
   },
   "file_extension": ".py",
   "mimetype": "text/x-python",
   "name": "python",
   "nbconvert_exporter": "python",
   "pygments_lexer": "ipython3",
   "version": "3.6.5"
  }
 },
 "nbformat": 4,
 "nbformat_minor": 2
}
